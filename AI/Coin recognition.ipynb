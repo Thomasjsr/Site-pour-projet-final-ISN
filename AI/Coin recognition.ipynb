{
 "cells": [
  {
   "cell_type": "markdown",
   "metadata": {},
   "source": [
    "On accumule tous des pièces de monnaies. Soit parce qu’on oublie qu’ont les as et on ne se rend même pas compte, soit parce que nous ne sommes pas bons en calcul mental et nous n'avons pas envie de conter toutes les pièces et on préfère payer avec des billets ou par carte parce que c’est plus rapide. Quoi qu’il en soit on finit toujours par rassembler une plus ou moins importante quantité de pièces dans une tirelire ou dans une caisse sous notre lit ou caché dans un tiroir. M'aimerais tu pas savoir combien d'argent tu as en pièce? Grâce à ce programme aujourd'hui c'est possible! Juste prend une photo de tes pièces et hop le programme te donne la valeur totale de toutes tes pièces."
   ]
  },
  {
   "cell_type": "markdown",
   "metadata": {},
   "source": [
    " "
   ]
  },
  {
   "cell_type": "markdown",
   "metadata": {},
   "source": [
    "La première chose à faire est d'importer toutes les librairies externes qu'on va utiliser dans le programme"
   ]
  },
  {
   "cell_type": "code",
   "execution_count": 1,
   "metadata": {
    "scrolled": true
   },
   "outputs": [],
   "source": [
    "import os \n",
    "import cv2 # Computer vision -- traitement d'image\n",
    "import numpy as np # array --> matrix de plus de deux dimention\n",
    "import sys\n",
    "import tkinter.filedialog"
   ]
  },
  {
   "cell_type": "markdown",
   "metadata": {},
   "source": [
    "Pour qu'une intelligence artificielle puisse reconnaîte quelque chose il faut d'abord lui montrer des exemples de ce qu'il va devoir reconnaître, ceci s'appele l'entrainement. Pour faire cela ont d'abord téléchargé 1291 photos de pièces d'euros qu'on a séparé en différents fichiers correspondant à la valeur des pièces"
   ]
  },
  {
   "cell_type": "code",
   "execution_count": 2,
   "metadata": {},
   "outputs": [],
   "source": [
    "datadir_train = \"classified/train\"\n",
    "datadir_test = \"classified/test\"\n",
    "categories = ['1c', '2c', '5c', '10c', '20c', '50c', '1e', '2e']"
   ]
  },
  {
   "cell_type": "markdown",
   "metadata": {},
   "source": [
    "Il y a deux façons pour un ordinateur de reconnaître une pièce, soit par les dimensions de la pièce (ce qui peut être très précis) ou en analysant toutes les différentes variations de couleurs. Pour avoir les dimensions il faut une échelle et malheureusement les photos qu'on à téléchargées n'avaient d'échelle, de plus ce n'est pas pratique pour l'utilisateur de devoir rajouter une échelle aux photos qu'il veut analyser. \n",
    "\n",
    "Pour pouvoir analyser les couleurs des photos on a donc fait une boucle qui passe par toutes les photos et qui rajoute une liste des valeurs RGB de chaque photo dans une autre liste : training_data"
   ]
  },
  {
   "cell_type": "code",
   "execution_count": 5,
   "metadata": {},
   "outputs": [],
   "source": [
    "training_data = []\n",
    "for category in categories:\n",
    "    path = os.path.join(datadir_train, category) # path est la location de la photo\n",
    "    label = categories.index(category) # les photos sont séparé en catégorie donc à chaque photo on associe un nombre dépandant de la catégorie dans la quel se trouve la photo\n",
    "    for img in os.listdir(path):\n",
    "        img_array = cv2.imread(os.path.join(path, img))\n",
    "        training_data.append([img_array, label]) # on rajoute les liste de valeurs RGB à la liste training_data"
   ]
  },
  {
   "cell_type": "markdown",
   "metadata": {},
   "source": [
    "On a fait la même chose avec 80 photos qu'on va utiliser pour tester la précision de notre programme "
   ]
  },
  {
   "cell_type": "code",
   "execution_count": 7,
   "metadata": {},
   "outputs": [
    {
     "ename": "FileNotFoundError",
     "evalue": "[WinError 3] El sistema no puede encontrar la ruta especificada: 'classified/test\\\\1c'",
     "output_type": "error",
     "traceback": [
      "\u001b[1;31m---------------------------------------------------------------------------\u001b[0m",
      "\u001b[1;31mFileNotFoundError\u001b[0m                         Traceback (most recent call last)",
      "\u001b[1;32m<ipython-input-7-864977b62aa3>\u001b[0m in \u001b[0;36m<module>\u001b[1;34m\u001b[0m\n\u001b[0;32m      3\u001b[0m     \u001b[0mpath\u001b[0m \u001b[1;33m=\u001b[0m \u001b[0mos\u001b[0m\u001b[1;33m.\u001b[0m\u001b[0mpath\u001b[0m\u001b[1;33m.\u001b[0m\u001b[0mjoin\u001b[0m\u001b[1;33m(\u001b[0m\u001b[0mdatadir_test\u001b[0m\u001b[1;33m,\u001b[0m \u001b[0mcategory\u001b[0m\u001b[1;33m)\u001b[0m\u001b[1;33m\u001b[0m\u001b[0m\n\u001b[0;32m      4\u001b[0m     \u001b[0mclass_num\u001b[0m \u001b[1;33m=\u001b[0m \u001b[0mcategories\u001b[0m\u001b[1;33m.\u001b[0m\u001b[0mindex\u001b[0m\u001b[1;33m(\u001b[0m\u001b[0mcategory\u001b[0m\u001b[1;33m)\u001b[0m\u001b[1;33m\u001b[0m\u001b[0m\n\u001b[1;32m----> 5\u001b[1;33m     \u001b[1;32mfor\u001b[0m \u001b[0mimg\u001b[0m \u001b[1;32min\u001b[0m \u001b[0mos\u001b[0m\u001b[1;33m.\u001b[0m\u001b[0mlistdir\u001b[0m\u001b[1;33m(\u001b[0m\u001b[0mpath\u001b[0m\u001b[1;33m)\u001b[0m\u001b[1;33m:\u001b[0m\u001b[1;33m\u001b[0m\u001b[0m\n\u001b[0m\u001b[0;32m      6\u001b[0m         \u001b[0mimg_array\u001b[0m \u001b[1;33m=\u001b[0m \u001b[0mcv2\u001b[0m\u001b[1;33m.\u001b[0m\u001b[0mimread\u001b[0m\u001b[1;33m(\u001b[0m\u001b[0mos\u001b[0m\u001b[1;33m.\u001b[0m\u001b[0mpath\u001b[0m\u001b[1;33m.\u001b[0m\u001b[0mjoin\u001b[0m\u001b[1;33m(\u001b[0m\u001b[0mpath\u001b[0m\u001b[1;33m,\u001b[0m \u001b[0mimg\u001b[0m\u001b[1;33m)\u001b[0m\u001b[1;33m)\u001b[0m\u001b[1;33m\u001b[0m\u001b[0m\n\u001b[0;32m      7\u001b[0m         \u001b[0mtesting_data\u001b[0m\u001b[1;33m.\u001b[0m\u001b[0mappend\u001b[0m\u001b[1;33m(\u001b[0m\u001b[1;33m[\u001b[0m\u001b[0mimg_array\u001b[0m\u001b[1;33m,\u001b[0m \u001b[0mclass_num\u001b[0m\u001b[1;33m]\u001b[0m\u001b[1;33m)\u001b[0m\u001b[1;33m\u001b[0m\u001b[0m\n",
      "\u001b[1;31mFileNotFoundError\u001b[0m: [WinError 3] El sistema no puede encontrar la ruta especificada: 'classified/test\\\\1c'"
     ]
    }
   ],
   "source": [
    "testing_data = []\n",
    "for category in categories:\n",
    "    path = os.path.join(datadir_test, category)\n",
    "    class_num = categories.index(category)\n",
    "    for img in os.listdir(path):\n",
    "        img_array = cv2.imread(os.path.join(path, img))\n",
    "        testing_data.append([img_array, class_num])"
   ]
  },
  {
   "cell_type": "markdown",
   "metadata": {},
   "source": [
    "Ici on sépare les valeurs RGB et les "
   ]
  },
  {
   "cell_type": "code",
   "execution_count": null,
   "metadata": {},
   "outputs": [],
   "source": [
    "x_train = []\n",
    "y_train = []\n",
    "\n",
    "for features, label in training_data:\n",
    "    x_train.append(features)\n",
    "    y_train.append(label)\n",
    "    \n",
    "x_train = np.array(x_train)"
   ]
  },
  {
   "cell_type": "code",
   "execution_count": null,
   "metadata": {},
   "outputs": [],
   "source": [
    "x_test = []\n",
    "y_test = []\n",
    "\n",
    "for features, label in testing_data:\n",
    "    x_test.append(features)\n",
    "    y_test.append(label)\n",
    "    \n",
    "x_test = np.array(x_test)"
   ]
  },
  {
   "cell_type": "code",
   "execution_count": 274,
   "metadata": {},
   "outputs": [],
   "source": [
    "from collections import Counter\n",
    "def k_nearest_neighbors(predict, k):\n",
    "    distences = []\n",
    "    for image in training_data:\n",
    "        distences.append([np.linalg.norm(image[0] - predict), image[1]])\n",
    "    distences.sort()\n",
    "    votes = [i[1] for i in distences[:k]]\n",
    "    votes = ''.join(str(e) for e in votes)\n",
    "    votes = votes.replace(',', '')\n",
    "    votes = votes.replace(' ', '')\n",
    "    result = Counter(votes).most_common(1)[0][0]\n",
    "    return result"
   ]
  },
  {
   "cell_type": "code",
   "execution_count": 275,
   "metadata": {},
   "outputs": [],
   "source": [
    "y_test = ''.join(str(e) for e in y_test)"
   ]
  },
  {
   "cell_type": "code",
   "execution_count": 286,
   "metadata": {
    "scrolled": false
   },
   "outputs": [
    {
     "name": "stdout",
     "output_type": "stream",
     "text": [
      "1.0132901668548584\n"
     ]
    }
   ],
   "source": [
    "start = time()\n",
    "correct = 0\n",
    "total = 0\n",
    "for image in testing_data:\n",
    "    prediction = k_nearest_neighbors(image[0], 1)\n",
    "    if int(prediction) == image[1]:\n",
    "        correct += 1\n",
    "    total += 1\n",
    "accuracy = correct/total\n",
    "end = time()\n",
    "print(end-start)"
   ]
  },
  {
   "cell_type": "code",
   "execution_count": 287,
   "metadata": {},
   "outputs": [
    {
     "name": "stdout",
     "output_type": "stream",
     "text": [
      "0.7\n"
     ]
    }
   ],
   "source": [
    "print(accuracy)"
   ]
  },
  {
   "cell_type": "code",
   "execution_count": null,
   "metadata": {},
   "outputs": [],
   "source": []
  },
  {
   "cell_type": "code",
   "execution_count": 1,
   "metadata": {},
   "outputs": [],
   "source": [
    "filename = tkinter.filedialog.askopenfilename(title=\"Ouvrir fichier\", filetypes=[('all files', '.*')])\n",
    "# Loads an image\n",
    "src = cv2.imread(cv.samples.findFile(filename), cv.IMREAD_COLOR)"
   ]
  },
  {
   "cell_type": "code",
   "execution_count": null,
   "metadata": {},
   "outputs": [],
   "source": [
    "def resize_img(img):\n",
    "    scale_percent = 500 / img.shape[1]\n",
    "    w = int(img.shape[1] * scale_percent)\n",
    "    h = int(img.shape[0] * scale_percent)\n",
    "    dim = (w, h)\n",
    "    new_img = cv.resize(img, dim)\n",
    "    return new_img"
   ]
  },
  {
   "cell_type": "code",
   "execution_count": null,
   "metadata": {},
   "outputs": [],
   "source": [
    "new_img = resize_img(src)\n",
    "\n",
    "gray = cv2.cv2tColor(new_img, cv2.COLOR_BGR2GRAY)\n",
    "\n",
    "gray = cv2.medianBlur(gray, 5)\n",
    "\n",
    "rows = gray.shape[0]\n",
    "circles = cv2.HoughCircles(gray, cv2.HOUGH_GRADIENT, 1, rows / 8, param1=100, param2=30, minRadius=1, maxRadius=70)\n",
    "\n",
    "circle_img = new_img\n",
    "numero_piece = 0\n",
    "Images = []\n",
    "if circles is not None:\n",
    "    circles = np.uint16(np.around(circles))\n",
    "    for i in circles[0,:]:\n",
    "\n",
    "        radius = i[2]\n",
    "\n",
    "        img_name = str('piece' + str(numero_piece))\n",
    "        img_cropped = new_img[i[1] - (radius + 5):i[1] + (radius + 5), i[0] - (radius + 5):i[0] + (radius + 5), ]\n",
    "        numero_piece += 1\n",
    "        Images.append(img_cropped)\n",
    "        #cv2.imshow(img_name, img_cropped)\n",
    "        #cv2.imwrite(img_name + '.jpg', img_cropped)\n",
    "\n",
    "cv2.imshow(\"detected circles\", circle_img)\n",
    "\n",
    "cv2.waitKey(0)"
   ]
  },
  {
   "cell_type": "code",
   "execution_count": 268,
   "metadata": {
    "scrolled": true
   },
   "outputs": [
    {
     "ename": "SyntaxError",
     "evalue": "unexpected EOF while parsing (<ipython-input-268-2c607de7a7be>, line 4)",
     "output_type": "error",
     "traceback": [
      "\u001b[1;36m  File \u001b[1;32m\"<ipython-input-268-2c607de7a7be>\"\u001b[1;36m, line \u001b[1;32m4\u001b[0m\n\u001b[1;33m    if prediction == 0:\u001b[0m\n\u001b[1;37m                       ^\u001b[0m\n\u001b[1;31mSyntaxError\u001b[0m\u001b[1;31m:\u001b[0m unexpected EOF while parsing\n"
     ]
    }
   ],
   "source": [
    "def count_money(prediction):\n",
    "    somme_de_pieces = 0\n",
    "    for image in Images:\n",
    "        prediction = k_nearest_neighbors(image[0], 30)\n",
    "        if prediction == 0:\n",
    "            somme_de_pieces += 0.01\n",
    "        if prediction == 1:\n",
    "            somme_de_pieces += 0.02\n",
    "        if prediction == 2:\n",
    "            somme_de_pieces += 0.05\n",
    "        if prediction == 3:\n",
    "            somme_de_pieces += 0.10\n",
    "        if prediction == 4:\n",
    "            somme_de_pieces += 0.20\n",
    "        if prediction == 5:\n",
    "            somme_de_pieces += 0.50\n",
    "        if prediction == 6:\n",
    "            somme_de_pieces += 1.00\n",
    "        if prediction == 7:\n",
    "            somme_de_pieces += 2.00"
   ]
  },
  {
   "cell_type": "code",
   "execution_count": null,
   "metadata": {},
   "outputs": [],
   "source": []
  }
 ],
 "metadata": {
  "celltoolbar": "Raw Cell Format",
  "kernelspec": {
   "display_name": "Python 3",
   "language": "python",
   "name": "python3"
  },
  "language_info": {
   "codemirror_mode": {
    "name": "ipython",
    "version": 3
   },
   "file_extension": ".py",
   "mimetype": "text/x-python",
   "name": "python",
   "nbconvert_exporter": "python",
   "pygments_lexer": "ipython3",
   "version": "3.6.0"
  }
 },
 "nbformat": 4,
 "nbformat_minor": 2
}
