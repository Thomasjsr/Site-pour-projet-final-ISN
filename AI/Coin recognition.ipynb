{
 "cells": [
  {
   "cell_type": "markdown",
   "metadata": {},
   "source": [
    "# Reconaissance de pièces"
   ]
  },
  {
   "cell_type": "markdown",
   "metadata": {},
   "source": [
    "Aujourd’hui on accumule et additionne tous des pièces de monnaies. Soit parce qu’on oublie qu’on les a et on ne se rend même pas compte, soit parce que nous ne sommes pas bon en calcul mental et qu’on n’a pas envie de compter toutes les pièces ou on préfère payer avec des billets ou par carte parce que c’est plus rapide. Quoi qu’il en soit on finit toujours par rassembler une plus ou moins importe quantité de pièces dans une tirelire ou dans une caisse sous notre lit ou caché dans un tiroir. Si seulement nous avions à disposition un outil qui permette, facilement et rapidement de connaitre la valeur et la quantité de ces amas de monnaie! Et bien désormais, grâce à notre l’application d’intelligence artificielle, c’est possible! il suffit de prendre une photo de son tas de monnaie, et HOP! le programme fait tout le travail pour compter le nombre de pièces et leur valeur! "
   ]
  },
  {
   "cell_type": "markdown",
   "metadata": {},
   "source": [
    " "
   ]
  },
  {
   "cell_type": "markdown",
   "metadata": {},
   "source": [
    "La première chose à faire est d'importer toutes les librairies externes qu'on va utiliser dans le programme"
   ]
  },
  {
   "cell_type": "code",
   "execution_count": 27,
   "metadata": {
    "scrolled": true
   },
   "outputs": [],
   "source": [
    "import os \n",
    "import cv2 # Computer vision -- traitement d'image\n",
    "import numpy as np # array --> matrix de plus de deux dimention\n",
    "import tkinter.filedialog"
   ]
  },
  {
   "cell_type": "markdown",
   "metadata": {},
   "source": [
    "Pour qu'une intelligence artificielle puisse reconnaîte quelque chose il faut d'abord lui montrer des exemples de ce qu'il va devoir reconnaître, ceci s'appele l'entrainement. Pour faire cela ont d'abord téléchargé 1291 photos de pièces d'euros qu'on a séparé en différents fichiers correspondant à la valeur des pièces"
   ]
  },
  {
   "cell_type": "code",
   "execution_count": 28,
   "metadata": {},
   "outputs": [],
   "source": [
    "datadir_train = \"classified/train\"\n",
    "datadir_test = \"classified/test\"\n",
    "categories = ['1c', '2c', '5c', '10c', '20c', '50c', '1e', '2e']"
   ]
  },
  {
   "cell_type": "markdown",
   "metadata": {},
   "source": [
    "Il y a deux façons pour un ordinateur de reconnaître une pièce, soit par les dimensions de la pièce (ce qui peut être très précis) ou en analysant toutes les différentes variations de couleurs. Pour avoir les dimensions il faut une échelle et malheureusement les photos qu'on à téléchargées n'avaient d'échelle, de plus ce n'est pas pratique pour l'utilisateur de devoir rajouter une échelle aux photos qu'il veut analyser. \n",
    "\n",
    "Pour pouvoir analyser les couleurs des photos on a donc fait une boucle qui passe par toutes les photos et qui rajoute une liste des valeurs RGB de chaque photo dans une autre liste : training_data"
   ]
  },
  {
   "cell_type": "code",
   "execution_count": 29,
   "metadata": {},
   "outputs": [],
   "source": [
    "training_data = []\n",
    "for category in categories:\n",
    "    path = os.path.join(datadir_train, category) # path est la location de la photo\n",
    "    label = categories.index(category) # les photos sont séparé en catégorie donc à chaque photo on associe un nombre dépandant de la catégorie dans la quel se trouve la photo\n",
    "    for img in os.listdir(path):\n",
    "        img_array = cv2.imread(os.path.join(path, img))\n",
    "        training_data.append([img_array, label]) # on rajoute les liste de valeurs RGB à la liste training_data"
   ]
  },
  {
   "cell_type": "markdown",
   "metadata": {},
   "source": [
    "On a fait la même chose avec 80 photos qu'on va utiliser pour tester la précision de notre programme "
   ]
  },
  {
   "cell_type": "code",
   "execution_count": 30,
   "metadata": {},
   "outputs": [],
   "source": [
    "testing_data = []\n",
    "for category in categories:\n",
    "    path = os.path.join(datadir_test, category) # path est la location de la photo\n",
    "    label = categories.index(category) # les photos sont séparé en catégorie donc à chaque photo on associe un nombre dépandant de la catégorie dans la quel se trouve la photo\n",
    "    for img in os.listdir(path):\n",
    "        img_array = cv2.imread(os.path.join(path, img))\n",
    "        testing_data.append([img_array, label]) # on rajoute les liste de valeurs RGB à la liste testing_data"
   ]
  },
  {
   "cell_type": "markdown",
   "metadata": {},
   "source": [
    "Ici on sépare les valeurs RGB et les nombres associe à chaque photo"
   ]
  },
  {
   "cell_type": "code",
   "execution_count": 31,
   "metadata": {},
   "outputs": [],
   "source": [
    "x_train = [] # liste des listes des valeurs RGB \n",
    "y_train = [] # liste des nombres associe à chaque photo\n",
    "\n",
    "for features, label in training_data:\n",
    "    x_train.append(features)\n",
    "    y_train.append(label)\n",
    "    \n",
    "x_train = np.array(x_train)"
   ]
  },
  {
   "cell_type": "code",
   "execution_count": 61,
   "metadata": {},
   "outputs": [],
   "source": [
    "x_test = []\n",
    "y_test = []\n",
    "\n",
    "for features, label in testing_data:\n",
    "    x_test.append(features)\n",
    "    y_test.append(label)\n",
    "    \n",
    "x_test = np.array(x_test)"
   ]
  },
  {
   "cell_type": "markdown",
   "metadata": {},
   "source": [
    "La fonction qui suit prend en entrée une pièce puis calcule la distance euclidienne entre la pièce toutes les autres pièces dans la liste training_data. Les k distances les plus courtes sont mit dans la liste votes et puis finalement la fonction donne en sortie la pièce qui sort le plus souvant entre les k pièces les plus proche de la pièce dont on veut savoir la valeur"
   ]
  },
  {
   "cell_type": "code",
   "execution_count": 62,
   "metadata": {},
   "outputs": [],
   "source": [
    "from collections import Counter\n",
    "def k_nearest_neighbors(predict, k):\n",
    "    distances = []\n",
    "    for image in training_data:\n",
    "        distances.append([np.linalg.norm(image[0] - predict), image[1]]) # calcul de distance euclidienne\n",
    "        '''\n",
    "        somme = 0\n",
    "        for i in range(len(image[0])):\n",
    "            somme += (image[0][i] - predict[i])**2\n",
    "        distance_euclidienne = sqrt(somme)\n",
    "        distance.append(distance_euclidienne)\n",
    "        '''\n",
    "    distances.sort() # on met les distance en ordre croissant \n",
    "    votes = [i[1] for i in distances[:k]] # i[1] correspond aux nombres associe aux pièces \n",
    "    votes = ''.join(str(e) for e in votes) # on converti la liste vote en string\n",
    "    votes = votes.replace(',', '') # on enlève toutes les virgules\n",
    "    votes = votes.replace(' ', '') # on enlève tous les espaces\n",
    "    result = Counter(votes).most_common(1)[0][0] # resultat est égale au nombre qui sort le plus dans la liste\n",
    "    return result"
   ]
  },
  {
   "cell_type": "markdown",
   "metadata": {},
   "source": [
    "Finalement on test la précision du programme"
   ]
  },
  {
   "cell_type": "code",
   "execution_count": 63,
   "metadata": {
    "scrolled": false
   },
   "outputs": [
    {
     "name": "stdout",
     "output_type": "stream",
     "text": [
      "51.39955925941467\n"
     ]
    }
   ],
   "source": [
    "from time import time\n",
    "start = time()\n",
    "correct = 0\n",
    "total = 0\n",
    "skipped = 0\n",
    "for i in range(len(x_test)+1):\n",
    "    try:\n",
    "        prediction = k_nearest_neighbors(x_test[i], 10)\n",
    "        if int(prediction) == y_test[i]:\n",
    "            correct += 1\n",
    "        total += 1\n",
    "    except Exception as e:\n",
    "        skipped += 1\n",
    "accuracy = correct/total\n",
    "end = time()\n",
    "print(end-start)"
   ]
  },
  {
   "cell_type": "code",
   "execution_count": 64,
   "metadata": {},
   "outputs": [
    {
     "name": "stdout",
     "output_type": "stream",
     "text": [
      "0.5813253012048193\n"
     ]
    }
   ],
   "source": [
    "print(accuracy)"
   ]
  },
  {
   "cell_type": "code",
   "execution_count": 1,
   "metadata": {},
   "outputs": [],
   "source": [
    "filename = tkinter.filedialog.askopenfilename(title=\"Ouvrir fichier\", filetypes=[('all files', '.*')])\n",
    "# Loads an image\n",
    "src = cv2.imread(cv2.samples.findFile(filename), cv2.IMREAD_COLOR)"
   ]
  },
  {
   "cell_type": "code",
   "execution_count": null,
   "metadata": {},
   "outputs": [],
   "source": [
    "def resize_img(img):\n",
    "    scale_percent = 500 / img.shape[1]\n",
    "    w = int(img.shape[1] * scale_percent)\n",
    "    h = int(img.shape[0] * scale_percent)\n",
    "    dim = (w, h)\n",
    "    new_img = cv.resize(img, dim)\n",
    "    return new_img"
   ]
  },
  {
   "cell_type": "code",
   "execution_count": null,
   "metadata": {},
   "outputs": [],
   "source": [
    "new_img = resize_img(src)\n",
    "\n",
    "gray = cv2.cv2tColor(new_img, cv2.COLOR_BGR2GRAY)\n",
    "\n",
    "gray = cv2.medianBlur(gray, 5)\n",
    "\n",
    "rows = gray.shape[0]\n",
    "circles = cv2.HoughCircles(gray, cv2.HOUGH_GRADIENT, 1, rows / 8, param1=100, param2=30, minRadius=1, maxRadius=70)\n",
    "\n",
    "circle_img = new_img\n",
    "numero_piece = 0\n",
    "Images = []\n",
    "if circles is not None:\n",
    "    circles = np.uint16(np.around(circles))\n",
    "    for i in circles[0,:]:\n",
    "\n",
    "        radius = i[2]\n",
    "\n",
    "        img_name = str('piece' + str(numero_piece))\n",
    "        img_cropped = new_img[i[1] - (radius + 5):i[1] + (radius + 5), i[0] - (radius + 5):i[0] + (radius + 5), ]\n",
    "        numero_piece += 1\n",
    "        Images.append(img_cropped)\n",
    "        #cv2.imshow(img_name, img_cropped)\n",
    "        #cv2.imwrite(img_name + '.jpg', img_cropped)\n",
    "\n",
    "cv2.imshow(\"detected circles\", circle_img)\n",
    "\n",
    "cv2.waitKey(0)"
   ]
  },
  {
   "cell_type": "code",
   "execution_count": 65,
   "metadata": {
    "scrolled": true
   },
   "outputs": [],
   "source": [
    "def count_money(prediction):\n",
    "    somme_de_pieces = 0\n",
    "    for image in Images:\n",
    "        prediction = k_nearest_neighbors(image[0], 30)\n",
    "        if prediction == 0:\n",
    "            somme_de_pieces += 0.01\n",
    "        if prediction == 1:\n",
    "            somme_de_pieces += 0.02\n",
    "        if prediction == 2:\n",
    "            somme_de_pieces += 0.05\n",
    "        if prediction == 3:\n",
    "            somme_de_pieces += 0.10\n",
    "        if prediction == 4:\n",
    "            somme_de_pieces += 0.20\n",
    "        if prediction == 5:\n",
    "            somme_de_pieces += 0.50\n",
    "        if prediction == 6:\n",
    "            somme_de_pieces += 1.00\n",
    "        if prediction == 7:\n",
    "            somme_de_pieces += 2.00"
   ]
  },
  {
   "cell_type": "code",
   "execution_count": null,
   "metadata": {},
   "outputs": [],
   "source": []
  }
 ],
 "metadata": {
  "celltoolbar": "Raw Cell Format",
  "kernelspec": {
   "display_name": "Python 3",
   "language": "python",
   "name": "python3"
  },
  "language_info": {
   "codemirror_mode": {
    "name": "ipython",
    "version": 3
   },
   "file_extension": ".py",
   "mimetype": "text/x-python",
   "name": "python",
   "nbconvert_exporter": "python",
   "pygments_lexer": "ipython3",
   "version": "3.6.0"
  }
 },
 "nbformat": 4,
 "nbformat_minor": 2
}
